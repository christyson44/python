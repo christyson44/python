{
 "cells": [
  {
   "cell_type": "code",
   "execution_count": null,
   "metadata": {},
   "outputs": [],
   "source": [
    "'''Considere um dataset em formato CSV com informações estatísticas sobre as eleições\n",
    "brasileiras do ano de 2016. (fonte http://www.tse.jus.br)\n",
    "• O arquivo (BR_eleitorado_2016_municipio.csv) contém dados segmentados por município,\n",
    "estado da federação, faixas etárias e gêneros. O arquivo foi gerado com encoding utf-8.\n",
    "• O arquivo está sem um critério de ordenação\n",
    "Pede-se:\n",
    "• Construa uma função que efetue a leitura do arquivo, criando uma lista de objetos que\n",
    "representem sua estrutura de dados do arquivo (classe Election2016)\n",
    "• Gere um arquivo tipo CSV codificado em utf-8 com o nome pleito_2016_classificado.csv com\n",
    "todas as informações lidas do arquivo anterior, classificadas pelas colunas uf e\n",
    "cod_municipio_tse consecutivamente - FEITO\n",
    "\n",
    "Construa uma função de nome group_female_by_uf() que deverá agrupar, sumarizar e retornar\n",
    "uma lista de tuplas com a quantidade de eleitoras por estado (uf, qtd), utilizando o recurso list\n",
    "comprehension (dica: utilize a função groupby() para agrupar e sum() para sumarizar)\n",
    "• A partir da lista gerada pela função group_female_by_uf() gere um arquivo JSON com nome\n",
    "pleito_2016_stat.json com as seguintes informações estatísticas:\n",
    "• Média aritmética\n",
    "• Média ponderada\n",
    "• Mediana\n",
    "• Variância\n",
    "• Desvio Padrão\n",
    "Feito\n",
    "\n",
    "• Crie uma função chamada save_election_by_uf(). Esta função deverá gravar em arquivos CSV,\n",
    "as mesmas informações do arquivo principal (BR_eleitorado_2016_municipio.csv) com a\n",
    "mesma estrutura, porém separando um arquivo por unidade federativa (UF). Cada arquivo\n",
    "deverá ter o nome da uf. Os arquivos deverão ser gravados por threads separadas favorecendo\n",
    "dessa forma o desempenho do programa no momento da gravação."
   ]
  },
  {
   "cell_type": "code",
   "execution_count": 54,
   "metadata": {},
   "outputs": [],
   "source": [
    "#Imports \n",
    "import csv\n",
    "from datetime import datetime\n",
    "from operator import itemgetter, attrgetter\n",
    "from itertools import groupby\n",
    "import statistics\n",
    "import json\n",
    "import threading"
   ]
  },
  {
   "cell_type": "code",
   "execution_count": 55,
   "metadata": {},
   "outputs": [],
   "source": [
    "# Construa uma função que efetue a leitura do arquivo, criando uma lista de objetos que\n",
    "# representem sua estrutura de dados do arquivo (classe Election2016)\n",
    "\n",
    "class Election2016(list):\n",
    "    \n",
    "    def __init__(self, table):\n",
    "        self.cod_municipio_tse = table['cod_municipio_tse']\n",
    "        self.uf= table['uf'] \n",
    "        self.nome_municipio = table['nome_municipio'] \n",
    "        self.total_eleitores=table['total_eleitores']\n",
    "        self.f_16 = table['f_16'] \n",
    "        self.f_17 = table['f_17'] \n",
    "        self.f_18_20 = table['f_18_20'] \n",
    "        self.f_21_24 = table['f_21_24'] \n",
    "        self.f_25_34 = table['f_25_34'] \n",
    "        self.f_35_44 = table['f_35_44'] \n",
    "        self.f_45_59 = table['f_45_59'] \n",
    "        self.f_60_69 = table['f_60_69']\n",
    "        self.f_70_79 = table['f_70_79']\n",
    "        self.f_sup_79 = table['f_sup_79']\n",
    "        self.gen_feminino = table['gen_feminino']\n",
    "        self.gen_masculino = table['gen_masculino']\n",
    "        self.gen_nao_informado = table['gen_nao_informado']\n",
    "    \n",
    "    def __str__(self):\n",
    "        return str(vars(self))"
   ]
  },
  {
   "cell_type": "code",
   "execution_count": 56,
   "metadata": {},
   "outputs": [],
   "source": [
    "def group_female_by_uf(eleitorado):\n",
    "    listaEleitorado = list(map(vars, eleitorado)) #converte o dictionary pra list\n",
    "    ufGenfemininoTuple = []\n",
    "    for elei in listaEleitorado: #cria tupla uf, gen_feminino\n",
    "        node = []\n",
    "        node.append(elei['uf'])\n",
    "        node.append(int(elei['gen_feminino']))\n",
    "        ufGenfemininoTuple.append(node)\n",
    "    \n",
    "    somaAgrupado = list(somatorio(ufGenfemininoTuple)) #função somatorio calcula a soma de cada grupo\n",
    " \n",
    "    createJSONStatistics(somaAgrupado)  #cria o arquivo JSON com o resultado das somas de cada grupo"
   ]
  },
  {
   "cell_type": "code",
   "execution_count": 63,
   "metadata": {},
   "outputs": [],
   "source": [
    "#função que soma os valores de cada grupo de UF\n",
    "def somatorio(l):\n",
    "    it = groupby(l, itemgetter(0))\n",
    "    for key, group in it:\n",
    "            yield key, sum(item[1] for item in group) "
   ]
  },
  {
   "cell_type": "code",
   "execution_count": 57,
   "metadata": {},
   "outputs": [],
   "source": [
    "#funcao que gera o arquivo JSON com as estatisticas\n",
    "#recebe como parametro a lista de tuplas com os grupos ja sumarizados\n",
    "def createJSONStatistics(somaAgrupado):\n",
    "    \n",
    "    sumGenFem = []\n",
    "    for item in somaAgrupado:\n",
    "         sumGenFem.append(item[1])\n",
    "            \n",
    "    #Gera as estatisticas usando statistics         \n",
    "    statMean = statistics.mean(sumGenFem)\n",
    "    statMedian = statistics.median(sumGenFem)\n",
    "    statVar = statistics.variance(sumGenFem)\n",
    "    statStdev = statistics.stdev(sumGenFem)\n",
    "    \n",
    "    bodyJson = {\n",
    "        \"Media aritmetica\": statMean,\n",
    "        \"Media ponderada\" : 0,\n",
    "        \"Mediana\" : statMedian,\n",
    "        \"Variancia\" : statVar,\n",
    "        \"Desvio Padrao\" : statStdev\n",
    "    }\n",
    "    \n",
    "     #Salvando estatisticas no arquivo JSON\n",
    "    with open('pleito_2016_stat.json', 'w') as outfile:\n",
    "        json.dump(bodyJson, outfile,indent=4,)"
   ]
  },
  {
   "cell_type": "code",
   "execution_count": 59,
   "metadata": {
    "scrolled": true
   },
   "outputs": [],
   "source": [
    "# Construa uma função que efetue a leitura do arquivo,\n",
    "def readCsvFile(fileName, outputFile):\n",
    "    with open(fileName, 'r', encoding='utf-8') as f:\n",
    "        # read customers into list if Customers\n",
    "        reader = csv.DictReader(f, delimiter=';')\n",
    "        eleitorado = [Election2016(c) for c in reader]\n",
    "        \n",
    "        # sort eleitorado by UF and cod_municipio_tse\n",
    "        sorted_eleitorado_by_uf = sorted(eleitorado, key=attrgetter('uf', 'cod_municipio_tse'))\n",
    "\n",
    "        # save CVS file\n",
    "        header = ['cod_municipio_tse', 'uf','nome_municipio','total_eleitores','f_16','f_17','f_18_20','f_21_24','f_25_34','f_35_44','f_45_59','f_60_69','f_70_79','f_sup_79','gen_feminino','gen_masculino','gen_nao_informado']\n",
    "        save_csv(outputFile, header, sorted_eleitorado_by_uf)\n",
    "\n",
    "        group_female_by_uf(sorted_eleitorado_by_uf)\n",
    "        \n",
    "        save_election_by_uf(sorted_eleitorado_by_uf)"
   ]
  },
  {
   "cell_type": "code",
   "execution_count": 60,
   "metadata": {},
   "outputs": [],
   "source": [
    "#Funcao pra salvar arquivo CSV\n",
    "def save_csv(file, header, content):\n",
    "    with open(file, 'w', newline='') as f:\n",
    "        writer = csv.DictWriter(f, delimiter=';', fieldnames=header)\n",
    "        writer.writeheader()\n",
    "        try:\n",
    "            writer.writerows(list(map(vars, content)))\n",
    "        except:\n",
    "            writer.writerows(content)"
   ]
  },
  {
   "cell_type": "code",
   "execution_count": 61,
   "metadata": {},
   "outputs": [],
   "source": [
    "#funcao que cria as threads pra salvar os arquivos por estado\n",
    "def save_election_by_uf(dadosOrdenados: Election2016):\n",
    "    listaOrdenada = list(map(vars, dadosOrdenados))\n",
    "    uf = ''\n",
    "    threadList = []\n",
    "    header = ['cod_municipio_tse', 'uf','nome_municipio','total_eleitores','f_16','f_17','f_18_20','f_21_24','f_25_34','f_35_44','f_45_59','f_60_69','f_70_79','f_sup_79','gen_feminino','gen_masculino','gen_nao_informado']\n",
    "    \n",
    "    \n",
    "    for dados in listaOrdenada:\n",
    "        uf = dados['uf']\n",
    "        threads = []\n",
    "        fileName = uf + '_eleitorado_2016_municipio.csv'\n",
    "        dadosEleitoradoPorUf = []\n",
    "        eleitoradoPorUf = (x for x in listaOrdenada if x['uf']==uf)\n",
    "        \n",
    "        for eleitorado in eleitoradoPorUf:\n",
    "            dadosEleitoradoPorUf.append(eleitorado)\n",
    "        #save_csv(fileName, header, dadosEleitoradoPorUf)   \n",
    "        t = threading.Thread(target=save_csv, args=(fileName,header, dadosEleitoradoPorUf ))\n",
    "        threads.append(t)\n",
    "        t.start()"
   ]
  },
  {
   "cell_type": "code",
   "execution_count": 64,
   "metadata": {},
   "outputs": [],
   "source": [
    "readCsvFile('BR_eleitorado_2016_municipio.csv', 'pleito_2016_classificado.csv')"
   ]
  },
  {
   "cell_type": "code",
   "execution_count": null,
   "metadata": {},
   "outputs": [],
   "source": []
  }
 ],
 "metadata": {
  "kernelspec": {
   "display_name": "Python 3",
   "language": "python",
   "name": "python3"
  },
  "language_info": {
   "codemirror_mode": {
    "name": "ipython",
    "version": 3
   },
   "file_extension": ".py",
   "mimetype": "text/x-python",
   "name": "python",
   "nbconvert_exporter": "python",
   "pygments_lexer": "ipython3",
   "version": "3.6.4"
  }
 },
 "nbformat": 4,
 "nbformat_minor": 2
}
