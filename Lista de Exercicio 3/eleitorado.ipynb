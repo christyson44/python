{
 "cells": [
  {
   "cell_type": "code",
   "execution_count": null,
   "metadata": {},
   "outputs": [],
   "source": [
    "'''Construa uma função que efetue a leitura do arquivo, criando uma lista de objetos que\n",
    "representem sua estrutura de dados do arquivo (classe Election2016)\n",
    "\n",
    "cod_municipio_tse;\n",
    "uf;\n",
    "nome_municipio;\n",
    "total_eleitores;\n",
    "f_16;\n",
    "f_17;\n",
    "f_18_20;\n",
    "f_21_24;\n",
    "f_25_34;\n",
    "f_35_44;\n",
    "f_45_59;\n",
    "f_60_69;\n",
    "f_70_79;\n",
    "f_sup_79;\n",
    "gen_feminino;\n",
    "gen_masculino;\n",
    "gen_nao_informado"
   ]
  },
  {
   "cell_type": "code",
   "execution_count": 2,
   "metadata": {},
   "outputs": [],
   "source": []
  },
  {
   "cell_type": "code",
   "execution_count": null,
   "metadata": {},
   "outputs": [],
   "source": []
  }
 ],
 "metadata": {
  "kernelspec": {
   "display_name": "Python 3",
   "language": "python",
   "name": "python3"
  },
  "language_info": {
   "codemirror_mode": {
    "name": "ipython",
    "version": 3
   },
   "file_extension": ".py",
   "mimetype": "text/x-python",
   "name": "python",
   "nbconvert_exporter": "python",
   "pygments_lexer": "ipython3",
   "version": "3.6.4"
  }
 },
 "nbformat": 4,
 "nbformat_minor": 2
}
