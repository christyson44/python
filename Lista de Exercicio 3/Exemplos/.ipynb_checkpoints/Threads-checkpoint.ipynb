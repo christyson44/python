{
 "cells": [
  {
   "cell_type": "code",
   "execution_count": 1,
   "metadata": {},
   "outputs": [
    {
     "name": "stdout",
     "output_type": "stream",
     "text": [
      "Initializing...\n",
      "Thread-4 - iterating: 10\n",
      "Thread-5 - iterating: 15\n",
      "Thread-5 - iterating: 14\n",
      "Thread-5 - iterating: 13\n",
      "Thread-4 - iterating: 9\n",
      "Thread-5 - iterating: 12\n",
      "Thread-5 - iterating: 11\n",
      "Thread-5 - iterating: 10\n",
      "Thread-4 - iterating: 8\n",
      "Thread-5 - iterating: 9\n",
      "Thread-5 - iterating: 8\n",
      "Thread-5 - iterating: 7\n",
      "Thread-4 - iterating: 7\n",
      "Thread-5 - iterating: 6\n",
      "Thread-5 - iterating: 5\n",
      "Thread-5 - iterating: 4\n",
      "Thread-4 - iterating: 6\n",
      "Thread-5 - iterating: 3\n",
      "Thread-5 - iterating: 2\n",
      "Thread-5 - iterating: 1\n",
      "Thread-4 - iterating: 5\n",
      "Thread-4 - iterating: 4\n",
      "Thread-4 - iterating: 3\n",
      "Thread-4 - iterating: 2\n",
      "Thread-4 - iterating: 1\n",
      "Finished!\n"
     ]
    }
   ],
   "source": [
    "import threading, time\n",
    "\n",
    "\n",
    "class ExampleThread(threading.Thread):\n",
    "    def __init__(self, times, delay):\n",
    "        threading.Thread.__init__(self)\n",
    "        self.counter = times\n",
    "        self.delay = delay\n",
    "\n",
    "    def run(self):\n",
    "        while self.counter:\n",
    "            print('{} - iterating: {}'.format(self.getName(), self.counter))\n",
    "            time.sleep(self.delay)\n",
    "            self.counter -= 1\n",
    "\n",
    "print('Initializing...')\n",
    "t1 = ExampleThread(10, 3)\n",
    "t2 = ExampleThread(15, 1)\n",
    "t1.start()\n",
    "t2.start()\n",
    "t1.join()\n",
    "t2.join()\n",
    "print('Finished!')"
   ]
  },
  {
   "cell_type": "code",
   "execution_count": null,
   "metadata": {},
   "outputs": [],
   "source": []
  }
 ],
 "metadata": {
  "kernelspec": {
   "display_name": "Python 3",
   "language": "python",
   "name": "python3"
  },
  "language_info": {
   "codemirror_mode": {
    "name": "ipython",
    "version": 3
   },
   "file_extension": ".py",
   "mimetype": "text/x-python",
   "name": "python",
   "nbconvert_exporter": "python",
   "pygments_lexer": "ipython3",
   "version": "3.6.4"
  }
 },
 "nbformat": 4,
 "nbformat_minor": 2
}
