{
 "cells": [
  {
   "cell_type": "code",
   "execution_count": null,
   "metadata": {},
   "outputs": [],
   "source": [
    "'''Dado um arquivo customers.cvs com as seguintes informações sobre clientes:\n",
    "• id\n",
    "• name\n",
    "• gender\n",
    "• birthday\n",
    "• email\n",
    "• active\n",
    "• Crie a classe Customer que represente a estrutura acima\n",
    "• Efetue a leitura do arquivo, criando uma lista de instâncias de Customer (1 instância por linha\n",
    "do arquivo)\n",
    "• Crie uma lista com todos os Customers ativos (active = True), ordenados por id, salve o\n",
    "conteudo dessa lista em um arquivo do tipo csv (actives.csv)\n",
    "• Crie uma lista com todos os Customers inativos cujo gênero seja masculino (gender = Male),\n",
    "ordenados por nome. Salve os elementos dessa lista em um arquivo do tipo txt\n",
    "(male_inactives.txt, 1 elemento por linha)"
   ]
  },
  {
   "cell_type": "code",
   "execution_count": null,
   "metadata": {},
   "outputs": [],
   "source": [
    "import csv\n",
    "from datetime import datetime\n",
    "from operator import attrgetter\n",
    "\n",
    "\n",
    "class Customer(object):\n",
    "    def __init__(self, table):\n",
    "        self.id = table['id']\n",
    "        self.name = table['name']\n",
    "        self.gender = table['gender']\n",
    "        self.birthday = datetime.strptime(table['birthday'], '%d/%m/%Y')\n",
    "        self.email = table['email']\n",
    "        self.active = True if table['active'] == 'True' else False\n",
    "\n",
    "    def __str__(self):\n",
    "        return str(vars(self))\n",
    "\n",
    "\n",
    "def save_csv(file, header, content):\n",
    "    with open(file, 'w', newline='') as f:\n",
    "        writer = csv.DictWriter(f, delimiter=';', fieldnames=header)\n",
    "        writer.writeheader()\n",
    "        writer.writerows(list(map(vars, content)))\n",
    "\n",
    "\n",
    "def save_txt(file, content):\n",
    "    with open(file, 'w') as f:\n",
    "        for line in content:\n",
    "            f.write(str(line) + '\\n')\n",
    "\n",
    "\n",
    "with open('/temp/customers.csv', 'r', encoding='utf-8') as f:\n",
    "    # read customers into list if Customers\n",
    "    reader = csv.DictReader(f, delimiter=';')\n",
    "    customers = [Customer(c) for c in reader]\n",
    "\n",
    "    # filter active customers sorted by id\n",
    "    sorted_active_customers = sorted(list(filter(lambda c: c.active, customers)), key=attrgetter('id'))\n",
    "\n",
    "    # filter inactive male customers sorted by name\n",
    "    inactive_male_customers = list(filter(lambda c: c.active == False and c.gender == 'Male', customers))\n",
    "    sorted_inactive_male_customers = sorted(inactive_male_customers, key=attrgetter('name'))\n",
    "\n",
    "    # save CVS file\n",
    "    header = ['id', 'name', 'gender', 'birthday', 'email', 'active']\n",
    "    save_csv('/temp/actives.csv', header, sorted_active_customers)\n",
    "\n",
    "    # save TXT file\n",
    "    save_txt('/temp/male_inactives.txt', sorted_inactive_male_customers)"
   ]
  }
 ],
 "metadata": {
  "kernelspec": {
   "display_name": "Python 3",
   "language": "python",
   "name": "python3"
  },
  "language_info": {
   "codemirror_mode": {
    "name": "ipython",
    "version": 3
   },
   "file_extension": ".py",
   "mimetype": "text/x-python",
   "name": "python",
   "nbconvert_exporter": "python",
   "pygments_lexer": "ipython3",
   "version": "3.6.4"
  }
 },
 "nbformat": 4,
 "nbformat_minor": 2
}
