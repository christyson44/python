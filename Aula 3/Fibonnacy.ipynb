{
 "cells": [
  {
   "cell_type": "code",
   "execution_count": null,
   "metadata": {},
   "outputs": [],
   "source": [
    "'''Na matemática, a Sucessão de Fibonacci (também Sequência de Fibonacci), é uma sequência\n",
    "de números inteiros, começando normalmente por 0 e 1, na qual, cada termo subsequente\n",
    "corresponde à soma dos dois anteriores. A sequência recebeu o nome do matemático italiano\n",
    "Leonardo de Pisa, mais conhecido por Fibonacci , que descreveu, no ano de 1202, o crescimento\n",
    "de uma população de coelhos, a partir desta. (https://pt.wikipedia.org/wiki/Sequ%C3%AAncia_de_Fibonacci)\n",
    "Em termos matemáticos a sequencia é definida com a seguinte fórmula (infinita):\n",
    "Pede-se\n",
    "• Escreva uma função que calcule um determinado elemento da sequencia de Fibonacci, dado\n",
    "sua posição na sequencia\n",
    "• Escreva uma expressão lambda que faça a mesma operação\n",
    "• Aplique as funções acima até a sequencia 20 e imprima na tela a lista de valores da sequencia"
   ]
  },
  {
   "cell_type": "code",
   "execution_count": 35,
   "metadata": {},
   "outputs": [],
   "source": [
    "def fibonaccy(pos):\n",
    "    fib = []\n",
    "    for i in range(99):\n",
    "        if i == 0:\n",
    "            fib.append(0)\n",
    "        if i == 1:\n",
    "            fib.append(1)\n",
    "        if i > 1:\n",
    "            fib.append(fib[i-1] + fib[i-2])\n",
    "        \n",
    "    return fib[pos]"
   ]
  },
  {
   "cell_type": "code",
   "execution_count": 37,
   "metadata": {},
   "outputs": [
    {
     "data": {
      "text/plain": [
       "135301852344706746049"
      ]
     },
     "execution_count": 37,
     "metadata": {},
     "output_type": "execute_result"
    }
   ],
   "source": [
    "fibonaccy(98)"
   ]
  },
  {
   "cell_type": "code",
   "execution_count": 32,
   "metadata": {},
   "outputs": [],
   "source": [
    "fb = lambda n : n if n <= 1 else fb(n-1) + fb(n-2)"
   ]
  },
  {
   "cell_type": "code",
   "execution_count": null,
   "metadata": {},
   "outputs": [],
   "source": [
    "list(map())"
   ]
  }
 ],
 "metadata": {
  "kernelspec": {
   "display_name": "Python 3",
   "language": "python",
   "name": "python3"
  },
  "language_info": {
   "codemirror_mode": {
    "name": "ipython",
    "version": 3
   },
   "file_extension": ".py",
   "mimetype": "text/x-python",
   "name": "python",
   "nbconvert_exporter": "python",
   "pygments_lexer": "ipython3",
   "version": "3.6.4"
  }
 },
 "nbformat": 4,
 "nbformat_minor": 2
}
