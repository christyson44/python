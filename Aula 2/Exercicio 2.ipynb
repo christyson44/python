{
 "cells": [
  {
   "cell_type": "code",
   "execution_count": null,
   "metadata": {},
   "outputs": [],
   "source": [
    "\"\"\"Exercicio 2\n",
    "• Considere um arquivo CSV (comma separated values) informações\n",
    "demográficas sobre super heróis\n",
    "• As informações do arquivo são\n",
    "• id - Numero da linha\n",
    "• name - Nome\n",
    "• Gender - Gênero\n",
    "• Eye color - Cor dos olhos\n",
    "• Race - Raça\n",
    "• Hair color - Cor do cabelo\n",
    "• Height - Altura em centimetros\n",
    "• Publisher - Estúdio\n",
    "• Skin color - Cor da pele\n",
    "• Alignment - Vilão ou herói\n",
    "• Weight - Peso em libras\n",
    "\n",
    "Pede-se\n",
    "• Crie uma função que efetue a leitura do arquivo e crie\n",
    "• Um arquivo de saida (.csv) com todos os heróis do gênero masculino (id, name)\n",
    "• Um arquivo de saida (.csv) com todos os heróis do gênero feminino (id, name)\n",
    "• Um arquivo de saida (.csv) com todos os heróis sem gênero defindo (id, name)\n",
    "• Um arquivo de saida (.txt) com o nome de todos os heróis dos estúdios Marvel Comics e\n",
    "DC Comics (um nome por linha)\n",
    "• Um arquivo de saida (.txt) com o nome de todos os heróis que tenham cor de pele azul e\n",
    "que sejam vilões (uma única linha com os nomes separados por #)\"\"\""
   ]
  },
  {
   "cell_type": "code",
   "execution_count": 75,
   "metadata": {},
   "outputs": [],
   "source": [
    "def writeFile(lista, fileName, separador):\n",
    "    file = open(fileName,\"w\") \n",
    "    for item in lista:\n",
    "        file.write(item[0] + \" - \"+ item[1] + separador + \" \\n\")\n",
    "    file.close"
   ]
  },
  {
   "cell_type": "code",
   "execution_count": 76,
   "metadata": {},
   "outputs": [],
   "source": [
    "def writeFileUnique(lista, fileName, separador):\n",
    "    file = open(fileName,\"w\") \n",
    "    for item in lista:\n",
    "        file.write(item + separador + \" \\n\")\n",
    "    file.close"
   ]
  },
  {
   "cell_type": "code",
   "execution_count": 77,
   "metadata": {},
   "outputs": [],
   "source": [
    "def writeFileLineByLine(lista, fileName):\n",
    "    file = open(fileName,\"w\") \n",
    "    for item in lista:\n",
    "        file.write(item[0] + \" - \"+ item[1] + \"\\n\")\n",
    "    file.close"
   ]
  },
  {
   "cell_type": "code",
   "execution_count": 84,
   "metadata": {},
   "outputs": [],
   "source": [
    "def superHerois(fileName):\n",
    "    f = open (fileName)\n",
    "    lineCount = 0\n",
    "    heroisMasculinos = []\n",
    "    heroinas = []\n",
    "    semGenero = []\n",
    "    marvelDCList = []\n",
    "    skinColorVilan = [] \n",
    "    \n",
    "    for line in f:\n",
    "        line = line.strip()\n",
    "        if(lineCount>0):\n",
    "            listaLinha = line.split(\",\")\n",
    "            idLinha= listaLinha[0]\n",
    "            nome= listaLinha[1]\n",
    "            genero = listaLinha[2].lower()\n",
    "            publisher =  listaLinha[7].lower()\n",
    "            skinColor =  listaLinha[8].lower()\n",
    "            align     = listaLinha[9].lower()\n",
    "            \n",
    "            if('blue' in skinColor and 'bad' in align):\n",
    "                skinColorVilan.append(nome)\n",
    "            \n",
    "            if('marvel' in publisher or 'dc' in publisher):\n",
    "                marvelDCList.append([idLinha, nome])\n",
    "            \n",
    "            if(genero=='male'):\n",
    "                heroisMasculinos.append([idLinha, nome])\n",
    "            else:\n",
    "                if(genero=='female'):\n",
    "                    heroinas.append([idLinha, nome])\n",
    "                else:\n",
    "                    semGenero.append([idLinha, nome])\n",
    "            lineCount+= 1\n",
    "        else:\n",
    "            lineCount+= 1\n",
    "            \n",
    "    f.close()    \n",
    "    writeFile(heroisMasculinos, 'herois.csv', ',')\n",
    "    writeFile(heroinas, 'heroinas.csv', ',')\n",
    "    writeFile(semGenero, 'semgenero.csv', ',')\n",
    "    writeFileLineByLine(marvelDCList, 'marvelDVList.txt')\n",
    "    writeFileUnique(skinColorVilan, 'skinColorVilan.txt', '#')\n",
    "    \n",
    "        "
   ]
  },
  {
   "cell_type": "code",
   "execution_count": 86,
   "metadata": {},
   "outputs": [],
   "source": [
    "superHerois('heroes_information.csv')"
   ]
  },
  {
   "cell_type": "code",
   "execution_count": null,
   "metadata": {},
   "outputs": [],
   "source": []
  },
  {
   "cell_type": "code",
   "execution_count": null,
   "metadata": {},
   "outputs": [],
   "source": []
  }
 ],
 "metadata": {
  "kernelspec": {
   "display_name": "Python 3",
   "language": "python",
   "name": "python3"
  },
  "language_info": {
   "codemirror_mode": {
    "name": "ipython",
    "version": 3
   },
   "file_extension": ".py",
   "mimetype": "text/x-python",
   "name": "python",
   "nbconvert_exporter": "python",
   "pygments_lexer": "ipython3",
   "version": "3.6.6"
  }
 },
 "nbformat": 4,
 "nbformat_minor": 2
}
