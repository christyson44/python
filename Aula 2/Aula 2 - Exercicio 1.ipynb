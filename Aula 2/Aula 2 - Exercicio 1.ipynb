{
 "cells": [
  {
   "cell_type": "code",
   "execution_count": 39,
   "metadata": {},
   "outputs": [],
   "source": [
    "\"\"\"\n",
    "Exercicio 1\n",
    "• Considere um arquivo texto que contem uma lista de arquivos. Cada linha desse arquivo,\n",
    "possui as seguintes informações:\n",
    "• Nome do criador do arquivo, 6 posições, alinhado à esquerda\n",
    "• Tamanho do arquivo no formato human-readable size (ex. 2K – 2 kilobytes, 3M – 3\n",
    "megabytes, 5G – 5 gigabytes, ou o número total de bytes caso menor que 1K), com 7\n",
    "posições, alinhado à direita sendo o caracter mais à direita um espaço em branco\n",
    "• Data de criação com 11 posições, no formato dd MMM YYYY (ex: 05 Jun 2005),\n",
    "acompanhado de um espaço em branco à direita\n",
    "• Nome do arquivo, até o final da linha\n",
    "• Pede-se\n",
    "• Crie uma função que receba como parâmetro o nome do arquivo\n",
    "• A função deverá abrir o arquivo em modo somente leitura e retornar a quantidade de\n",
    "nomes dos criadores de arquivo únicos considerando que:\n",
    "• O tamanho máximo do arquivo em bytes, seja menor que 2 * (2^20) (2 vezes 2 elevado à\n",
    "vigésima potencia)\n",
    "• A data de criação do arquivo seja anterior à 28 de Fevereiro de 2000.\n",
    "\"\"\""
   ]
  },
  {
   "cell_type": "code",
   "execution_count": 1,
   "metadata": {},
   "outputs": [],
   "source": [
    "from datetime import datetime  "
   ]
  },
  {
   "cell_type": "code",
   "execution_count": 2,
   "metadata": {},
   "outputs": [],
   "source": [
    "def human2bytes(s):\n",
    "    \"\"\"\n",
    "    >>> human2bytes('1M')\n",
    "    1048576\n",
    "    >>> human2bytes('1G')\n",
    "    1073741824\n",
    "    \"\"\"\n",
    "    symbols = ('B', 'K', 'M', 'G', 'T', 'P', 'E', 'Z', 'Y')\n",
    "    letter = s[-1:].strip().upper()\n",
    "    num = s[:-1]\n",
    "    print('Num= ', num) \n",
    "    num = float(num)\n",
    "    \n",
    "    prefix = {symbols[0]:1}\n",
    "    for i, s in enumerate(symbols[1:]):\n",
    "        prefix[s] = 1 << (i+1)*10\n",
    "    return int(num * prefix[letter])"
   ]
  },
  {
   "cell_type": "code",
   "execution_count": 9,
   "metadata": {},
   "outputs": [],
   "source": [
    "def exe1(NomeArquivo):\n",
    "    f = open(NomeArquivo)\n",
    "    userList=[]  \n",
    "    for line in f:\n",
    "        name = line[0:8]\n",
    "        fileSize = line[8:12]\n",
    "        date1 = line[13:24]\n",
    "        date1_conv = datetime.strptime(date1, '%d %b %Y')\n",
    "        \n",
    "        dateLimit = '28 Feb 2000'\n",
    "        date2_conv = datetime.strptime(dateLimit, '%d %b %Y')\n",
    "        fileName = line[25:50]\n",
    "\n",
    "        fileSize = fileSize.strip()\n",
    "        fileSize = fileSize.strip()\n",
    "        \n",
    "        try:\n",
    "            fileSize = float(fileSize)\n",
    "        except ValueError:            \n",
    "            fileSize = human2bytes(fileSize)\n",
    "            print('Except', fileSize, pow(2,20), fileSize< pow(2,20))\n",
    "       \n",
    "          \n",
    "        if( date1_conv < date2_conv):\n",
    "            if(fileSize < pow(2,20)):\n",
    "                if(userList.count(name)==0):                    \n",
    "                    userList.append(name.strip())\n",
    "                    print('1', userList)\n",
    "        else:\n",
    "            print ('Arquivo NAO aceito', fileName)\n",
    "            \n",
    "          \n",
    "    print('Quantida de criadores de arquivos unicos', userList)\n",
    "    print('Quantida de criadores de arquivos unicos', len(userList))\n",
    "        \n",
    "        \n",
    "       "
   ]
  },
  {
   "cell_type": "code",
   "execution_count": 10,
   "metadata": {
    "scrolled": true
   },
   "outputs": [
    {
     "name": "stdout",
     "output_type": "stream",
     "text": [
      "Num=  529\n",
      "Except 541696 1048576 True\n",
      "1 ['jane']\n",
      "Num=  243\n",
      "Except 248832 1048576 True\n",
      "1 ['jane', 'john']\n",
      "Num=  748\n",
      "Except 765952 1048576 True\n",
      "1 ['jane', 'john', 'root']\n",
      "Arquivo NAO aceito moonlight-sonata.wav\n",
      "\n",
      "Num=  565\n",
      "Except 592445440 1048576 False\n",
      "Num=  673\n",
      "Except 705691648 1048576 False\n",
      "Arquivo NAO aceito picture.gif\n",
      "\n",
      "Num=  2\n",
      "Except 2097152 1048576 False\n",
      "Arquivo NAO aceito song.wav\n",
      "\n",
      "Num=  1.9\n",
      "Except 1992294 1048576 False\n",
      "Num=  200\n",
      "Except 204800 1048576 True\n",
      "1 ['jane', 'john', 'root', 'root']\n",
      "1 ['jane', 'john', 'root', 'root', 'jane']\n",
      "Quantida de criadores de arquivos unicos ['jane', 'john', 'root', 'root', 'jane']\n",
      "Quantida de criadores de arquivos unicos 5\n"
     ]
    }
   ],
   "source": [
    "exe1('lista.txt')"
   ]
  },
  {
   "cell_type": "code",
   "execution_count": 201,
   "metadata": {},
   "outputs": [
    {
     "name": "stdout",
     "output_type": "stream",
     "text": [
      "1048576\n"
     ]
    }
   ],
   "source": [
    "print(pow(2,20))"
   ]
  },
  {
   "cell_type": "code",
   "execution_count": null,
   "metadata": {},
   "outputs": [],
   "source": []
  },
  {
   "cell_type": "code",
   "execution_count": null,
   "metadata": {},
   "outputs": [],
   "source": []
  }
 ],
 "metadata": {
  "kernelspec": {
   "display_name": "Python 3",
   "language": "python",
   "name": "python3"
  },
  "language_info": {
   "codemirror_mode": {
    "name": "ipython",
    "version": 3
   },
   "file_extension": ".py",
   "mimetype": "text/x-python",
   "name": "python",
   "nbconvert_exporter": "python",
   "pygments_lexer": "ipython3",
   "version": "3.6.6"
  }
 },
 "nbformat": 4,
 "nbformat_minor": 2
}
