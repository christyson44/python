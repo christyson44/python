{
 "cells": [
  {
   "cell_type": "code",
   "execution_count": null,
   "metadata": {},
   "outputs": [],
   "source": [
    "'''Exercicio 2\n",
    "• Crie um programa que efetue a leitura do arquivo produzido no exercício 1\n",
    "(levels.csv) e mostre na tela as seguintes informações estatísticas:\n",
    "• Quantidade total de acidentes\n",
    "• Quantidade total de acidentes agrupados por tipo de aeronave (type)\n",
    "• Ano e fabricante da aeronave mais antiga (year_manufacturing, manufacturer)\n",
    "• Quantidade de assentos e tipo de motor da aeronave mais nova (seating,\n",
    "engine_type)\n",
    "• A quantidade de acidentes que ocorreram com aeronaves do tipo (type)\n",
    "HELICÓPTERO, cuja fabricação se deu após o ano 1997\n",
    "• A quantidade de acidentes que ocorreram com aeronaves do tipo (type) AVIÃO\n",
    "fabricadas (manufacturer) pela CESSNA AIRCRAFT"
   ]
  },
  {
   "cell_type": "code",
   "execution_count": 59,
   "metadata": {},
   "outputs": [],
   "source": [
    "from array import *\n"
   ]
  },
  {
   "cell_type": "code",
   "execution_count": 60,
   "metadata": {},
   "outputs": [],
   "source": [
    "def readFile(fileName):\n",
    "    f = open (fileName).readlines() #lendo o arquivo\n",
    "    header = f.pop(0) #guardando o cabeçalho e removendo ele da lista\n",
    "    lineArray = [] #Array pra guardar linha\n",
    "    tableArray = [] #array pra guardar tabela toda\n",
    "    for line in f:\n",
    "        splitLine = line.split('~') #separando as celulas por split ~\n",
    "        for item in splitLine:\n",
    "            item = item.replace(\"\\\"\", \"\") #removendo o aspas\n",
    "            item = item.replace(\"\\n\", \"\") #removendo o \\n            \n",
    "            lineArray.append(item) #adicionando a celula no array da linha\n",
    "        tableArray.append(lineArray) #adicionando a linha na tabela\n",
    "        lineArray=[] #limpando o array da linha para ser usado na proxima interação\n",
    "    return tableArray"
   ]
  },
  {
   "cell_type": "code",
   "execution_count": null,
   "metadata": {},
   "outputs": [],
   "source": []
  },
  {
   "cell_type": "code",
   "execution_count": 109,
   "metadata": {},
   "outputs": [],
   "source": [
    "def showStatistics(tableArray):\n",
    "    totalAcidentes = 0\n",
    "    totalAcidentesHel = 0\n",
    "    totalAcidentesAviao = 0\n",
    "    \n",
    "    typeAeroArray = []\n",
    "    anoFabricante = []\n",
    "    \n",
    "    for line in tableArray:\n",
    "        splitLine = line[0].split(',')\n",
    "        print(splitLine)\n",
    "        #• Quantidade total de acidentes - Salvando dados\n",
    "        totalAcidentes = totalAcidentes + 1\n",
    "        \n",
    "        # • Ano e fabricante da aeronave mais antiga (year_manufacturing, manufacturer), guardando todos os anos e aeronaves em uma nova array\n",
    "        # guardando também dados de, Quantidade de assentos e tipo de motor da aeronave mais nova (seating,engine_type)\n",
    "        anoFabricante.insert(len(anoFabricante), [splitLine[2], splitLine[5], splitLine[6], splitLine[3]])\n",
    "        \n",
    "        \n",
    "        #A quantidade de acidentes que ocorreram com aeronaves do tipo (type) HELICÓPTERO, cuja fabricação se deu após o ano 1997\n",
    "        if splitLine[1]=='HELICÓPTERO' and int(splitLine[5])>1997:\n",
    "            totalAcidentesHel +=1 \n",
    "        \n",
    "        #A quantidade de acidentes que ocorreram com aeronaves do tipo (type) AVIÃO fabricadas (manufacturer) pela CESSNA AIRCRAFT\n",
    "        if splitLine[1]=='AVIÃO' and splitLine[2]=='CESSNA AIRCRAFT':\n",
    "            totalAcidentesAviao +=1 \n",
    "        \n",
    "        \n",
    "        #• Quantidade total de acidentes agrupados por tipo de aeronave (type)\n",
    "        typeAero = splitLine[1]\n",
    "        x=[] \n",
    "        try:\n",
    "            x = [x for x in typeAeroArray if typeAero in x][0] # localizando o item no array bidimensional\n",
    "        except:\n",
    "            print()\n",
    "            \n",
    "    \n",
    "        if len(x) == 0:\n",
    "            # Se a fase operação nao foi ele localizado inclui a fase operação no array\n",
    "            typeAeroArray.insert(len(typeAeroArray)+1 , [typeAero, 1])\n",
    "        else:\n",
    "            #se foi localizado\n",
    "            indexAFO = typeAeroArray.index(x) #Acha a posição da fase operação no array\n",
    "            updateAFO = typeAeroArray[indexAFO][1] #pega o valor antigo do total daquela fase de operaçao\n",
    "            typeAeroArray[indexAFO][1] = updateAFO + 1  # soma mais 1 no total daquela fase de operação\n",
    "\n",
    "\n",
    "    print()\n",
    "    print()\n",
    "    print('Quantidade total de acidentes = ' + str(totalAcidentes))\n",
    "    for item in typeAeroArray:\n",
    "        print( 'Quantidade total de acidentes agrupados por tipo, aeronave = ' + str(item[0]) + ' total de acidentes = ' + str(item[1]))\n",
    "    \n",
    "    #ordenando a lista de anoFabricante e pegando o primeiro item que contem a aeronave mais antiga\n",
    "    anoFabricanteOrdenado =sorted(anoFabricante, key=lambda anoFabricante: anoFabricante[1])\n",
    "    print ('fabricante da aeronave mais antiga = ' + str(anoFabricanteOrdenado[0][0]) + ', ano = '+ str(anoFabricanteOrdenado[0][1]) )\n",
    "   \n",
    "     #ordenando a lista de anoFabricante em order reversa e pegando o primeiro item que contem a Quantidade de assentos e tipo de motor da aeronave mais nova\n",
    "    anoFabricanteOrdenado =sorted(anoFabricante, key=lambda anoFabricante: anoFabricante[1], reverse=True)\n",
    "    print ('fabricante da aeronave mais = ' + str(anoFabricanteOrdenado[0][0]) + ', ano = '+ str(anoFabricanteOrdenado[0][1]) +', Quantidade de assentos = '+ str(anoFabricanteOrdenado[0][2]) + ' e tipo de motor da aeronave mais nova = ' + str(anoFabricanteOrdenado[0][3]) )\n",
    "    \n",
    "    print('A quantidade de acidentes que ocorreram com aeronaves do tipo (type) HELICÓPTERO, cuja fabricação se deu após o ano 1997 = ' + str(totalAcidentesHel))\n",
    "   \n",
    "    print('A quantidade de acidentes que ocorreram com aeronaves do tipo (type) AVIÃO fabricadas (manufacturer) pela CESSNA AIRCRAFT = ' + str(totalAcidentesAviao))"
   ]
  },
  {
   "cell_type": "code",
   "execution_count": 110,
   "metadata": {},
   "outputs": [
    {
     "name": "stdout",
     "output_type": "stream",
     "text": [
      "['ESCOLA DE AVIAÇÃO', 'HELICÓPTERO', 'ROBINSON HELICOPTER', 'PISTÃO', 'MONOMOTOR', '1997', '2', '2']\n",
      "\n",
      "['OPERADOR DE AERONAVE', 'AVIÃO', 'CESSNA AIRCRAFT', 'PISTÃO', 'MONOMOTOR', '1979', '1', '1']\n",
      "\n",
      "['OPERADOR PARTICULAR', 'HELICÓPTERO', 'EUROCOPTER FRANCE', 'TURBOEIXO', 'MONOMOTOR', '2005', '7', '1']\n",
      "['ÓRGÃO PÚBLICO', 'HELICÓPTERO', 'EUROCOPTER FRANCE', 'TURBOEIXO', 'MONOMOTOR', '1997', '6', '1']\n",
      "['OPERADOR PARTICULAR', 'AVIÃO', 'NEIVA INDUSTRIA AERONAUTICA', 'PISTÃO', 'MONOMOTOR', '1976', '4', '1']\n",
      "['OPERADOR PARTICULAR', 'HELICÓPTERO', 'BELL HELICOPTER', 'TURBOEIXO', 'MONOMOTOR', '1973', '5', '1']\n",
      "['OPERADOR PARTICULAR', 'ULTRALEVE', '***', 'PISTÃO', 'MONOMOTOR', '2009', '2', '1']\n",
      "\n",
      "['OPERADOR DE AERONAVE', 'AVIÃO', 'NEIVA INDUSTRIA AERONAUTICA', 'PISTÃO', 'MONOMOTOR', '1993', '1', '1']\n",
      "['OPERADOR DE AERONAVE', 'AVIÃO', 'CESSNA AIRCRAFT', 'PISTÃO', 'MONOMOTOR', '1946', '2', '2']\n",
      "['OPERADOR DE AERONAVE', 'AVIÃO', 'NEIVA INDUSTRIA AERONAUTICA', 'PISTÃO', 'MONOMOTOR', '1974', '1', '1']\n",
      "['OPERADOR DE AERONAVE', 'HELICÓPTERO', 'HELIBRAS', 'TURBOEIXO', 'MONOMOTOR', '2009', '6', '1']\n",
      "['OPERADOR PARTICULAR', 'ULTRALEVE', 'ROBSON DIAS LIMA', 'PISTÃO', 'MONOMOTOR', '2011', '2', '1']\n",
      "\n",
      "\n",
      "Quantidade total de acidentes = 12\n",
      "Quantidade total de acidentes agrupados por tipo, aeronave = HELICÓPTERO total de acidentes = 5\n",
      "Quantidade total de acidentes agrupados por tipo, aeronave = AVIÃO total de acidentes = 5\n",
      "Quantidade total de acidentes agrupados por tipo, aeronave = ULTRALEVE total de acidentes = 2\n",
      "fabricante da aeronave mais antiga = CESSNA AIRCRAFT, ano = 1946\n",
      "fabricante da aeronave mais = ROBSON DIAS LIMA, ano = 2011, Quantidade de assentos = 2 e tipo de motor da aeronave mais nova = PISTÃO\n",
      "A quantidade de acidentes que ocorreram com aeronaves do tipo (type) HELICÓPTERO, cuja fabricação se deu após o ano 1997 = 2\n",
      "A quantidade de acidentes que ocorreram com aeronaves do tipo (type) AVIÃO fabricadas (manufacturer) pela CESSNA AIRCRAFT = 2\n"
     ]
    }
   ],
   "source": [
    "tableArray = readFile('levels.csv');\n",
    "showStatistics(tableArray)"
   ]
  },
  {
   "cell_type": "code",
   "execution_count": null,
   "metadata": {},
   "outputs": [],
   "source": []
  }
 ],
 "metadata": {
  "kernelspec": {
   "display_name": "Python 3",
   "language": "python",
   "name": "python3"
  },
  "language_info": {
   "codemirror_mode": {
    "name": "ipython",
    "version": 3
   },
   "file_extension": ".py",
   "mimetype": "text/x-python",
   "name": "python",
   "nbconvert_exporter": "python",
   "pygments_lexer": "ipython3",
   "version": "3.6.6"
  }
 },
 "nbformat": 4,
 "nbformat_minor": 2
}
