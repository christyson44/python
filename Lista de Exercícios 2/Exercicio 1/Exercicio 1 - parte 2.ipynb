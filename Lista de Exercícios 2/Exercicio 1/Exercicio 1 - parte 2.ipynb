{
 "cells": [
  {
   "cell_type": "code",
   "execution_count": null,
   "metadata": {},
   "outputs": [],
   "source": [
    "'''2. Crie um arquivo de saida\n",
    "(formato CSV) com nome\n",
    "levels.csv contendo as\n",
    "seguintes informações:\n",
    "\n",
    "\n",
    "• operation -> aeronave_operador_categoria\n",
    "• type -> aeronave_tipo_veiculo\n",
    "• manufacturer -> aeronave_fabricante\n",
    "• engine_type aeronave_motor_tipo\n",
    "• engines -> aeronave_motor_quantidade\n",
    "• year_manufacturing -> aeronave_ano_fabricacao\n",
    "• seating -> aeronave_assentos\n",
    "• fatalities -> total_fatalidades\n",
    "\n",
    "\n",
    "Considerando apenas acidentes cujo nível de dano da aeronave tenha sido\n",
    "LEVE ou NENHUM (coluna aeronave_nivel_dano) E que o número de\n",
    "fatalidades (total_fatalidades) tenha sido superior à 0 (zero)\n",
    "OBS: Efetuar apenas uma leitura do arquivo de entrada\n",
    "\n"
   ]
  },
  {
   "cell_type": "code",
   "execution_count": 84,
   "metadata": {},
   "outputs": [],
   "source": [
    "def writeCSVFile(line):\n",
    "    f= open(\"levels.csv\",\"a+\")\n",
    "    f.write(line + '\\n')\n",
    "    f.close"
   ]
  },
  {
   "cell_type": "code",
   "execution_count": 85,
   "metadata": {},
   "outputs": [],
   "source": [
    "def readFile(fileName):\n",
    "    f = open (fileName).readlines() #lendo o arquivo\n",
    "    header = f.pop(0) #guardando o cabeçalho e removendo ele da lista\n",
    "    lineArray = [] #Array pra guardar linha\n",
    "    tableArray = [] #array pra guardar tabela toda\n",
    "    for line in f:\n",
    "        splitLine = line.split('~') #separando as celulas por split ~\n",
    "        for item in splitLine:\n",
    "            item = item.replace(\"\\\"\", \"\") #removendo o aspas\n",
    "            lineArray.append(item) #adicionando a celula no array da linha\n",
    "        tableArray.append(lineArray) #adicionando a linha na tabela\n",
    "        lineArray=[] #limpando o array da linha para ser usado na proxima interação\n",
    "    return tableArray"
   ]
  },
  {
   "cell_type": "code",
   "execution_count": 86,
   "metadata": {},
   "outputs": [],
   "source": [
    "def createCSVFile (tableArray):\n",
    "    for line in tableArray:\n",
    "        if (line[22]=='LEVE' or line[22]=='NENHUM') and int(line[23])>0:\n",
    "            lineToSave = line[2] +','+line[3]+','+line[4]+','+line[7]+','+line[8]+','+line[12]+','+line[11]+','+line[23]\n",
    "            writeCSVFile(lineToSave)"
   ]
  },
  {
   "cell_type": "code",
   "execution_count": 87,
   "metadata": {},
   "outputs": [],
   "source": [
    "tableArray = readFile('anv.csv');"
   ]
  },
  {
   "cell_type": "code",
   "execution_count": 89,
   "metadata": {},
   "outputs": [],
   "source": [
    "createCSVFile(tableArray)"
   ]
  },
  {
   "cell_type": "code",
   "execution_count": null,
   "metadata": {},
   "outputs": [],
   "source": []
  }
 ],
 "metadata": {
  "kernelspec": {
   "display_name": "Python 3",
   "language": "python",
   "name": "python3"
  },
  "language_info": {
   "codemirror_mode": {
    "name": "ipython",
    "version": 3
   },
   "file_extension": ".py",
   "mimetype": "text/x-python",
   "name": "python",
   "nbconvert_exporter": "python",
   "pygments_lexer": "ipython3",
   "version": "3.6.6"
  }
 },
 "nbformat": 4,
 "nbformat_minor": 2
}
